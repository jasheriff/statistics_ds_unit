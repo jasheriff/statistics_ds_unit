{
 "cells": [
  {
   "cell_type": "markdown",
   "metadata": {},
   "source": [
    "# What is the True Normal Human Body Temperature? \n",
    "\n",
    "#### Background\n",
    "\n",
    "The mean normal body temperature was held to be 37$^{\\circ}$C or 98.6$^{\\circ}$F for more than 120 years since it was first conceptualized and reported by Carl Wunderlich in a famous 1868 book. But, is this value statistically correct?"
   ]
  },
  {
   "cell_type": "markdown",
   "metadata": {},
   "source": [
    "<h3>Exercises</h3>\n",
    "\n",
    "<p>In this exercise, you will analyze a dataset of human body temperatures and employ the concepts of hypothesis testing, confidence intervals, and statistical significance.</p>\n",
    "\n",
    "<p>Answer the following questions <b>in this notebook below and submit to your Github account</b>.</p> \n",
    "\n",
    "<ol>\n",
    "<li>  Is the distribution of body temperatures normal? \n",
    "    <ul>\n",
    "    <li> Although this is not a requirement for the Central Limit Theorem to hold (read the introduction on Wikipedia's page about the CLT carefully: https://en.wikipedia.org/wiki/Central_limit_theorem), it gives us some peace of mind that the population may also be normally distributed if we assume that this sample is representative of the population.\n",
    "    <li> Think about the way you're going to check for the normality of the distribution. Graphical methods are usually used first, but there are also other ways: https://en.wikipedia.org/wiki/Normality_test\n",
    "    </ul>\n",
    "<li>  Is the sample size large? Are the observations independent?\n",
    "    <ul>\n",
    "    <li> Remember that this is a condition for the Central Limit Theorem, and hence the statistical tests we are using, to apply.\n",
    "    </ul>\n",
    "<li>  Is the true population mean really 98.6 degrees F?\n",
    "    <ul>\n",
    "    <li> First, try a bootstrap hypothesis test.\n",
    "    <li> Now, let's try frequentist statistical testing. Would you use a one-sample or two-sample test? Why?\n",
    "    <li> In this situation, is it appropriate to use the $t$ or $z$ statistic? \n",
    "    <li> Now try using the other test. How is the result be different? Why?\n",
    "    </ul>\n",
    "<li>  Draw a small sample of size 10 from the data and repeat both frequentist tests. \n",
    "    <ul>\n",
    "    <li> Which one is the correct one to use? \n",
    "    <li> What do you notice? What does this tell you about the difference in application of the $t$ and $z$ statistic?\n",
    "    </ul>\n",
    "<li>  At what temperature should we consider someone's temperature to be \"abnormal\"?\n",
    "    <ul>\n",
    "    <li> As in the previous example, try calculating everything using the boostrap approach, as well as the frequentist approach.\n",
    "    <li> Start by computing the margin of error and confidence interval. When calculating the confidence interval, keep in mind that you should use the appropriate formula for one draw, and not N draws.\n",
    "    </ul>\n",
    "<li>  Is there a significant difference between males and females in normal temperature?\n",
    "    <ul>\n",
    "    <li> What testing approach did you use and why?\n",
    "    <li> Write a story with your conclusion in the context of the original problem.\n",
    "    </ul>\n",
    "</ol>\n",
    "\n",
    "You can include written notes in notebook cells using Markdown: \n",
    "   - In the control panel at the top, choose Cell > Cell Type > Markdown\n",
    "   - Markdown syntax: http://nestacms.com/docs/creating-content/markdown-cheat-sheet\n",
    "\n",
    "#### Resources\n",
    "\n",
    "+ Information and data sources: http://www.amstat.org/publications/jse/datasets/normtemp.txt, http://www.amstat.org/publications/jse/jse_data_archive.htm\n",
    "+ Markdown syntax: http://nestacms.com/docs/creating-content/markdown-cheat-sheet\n",
    "\n",
    "****"
   ]
  },
  {
   "cell_type": "code",
   "execution_count": 1,
   "metadata": {},
   "outputs": [],
   "source": [
    "import pandas as pd\n",
    "import matplotlib.pyplot as plt\n",
    "import seaborn as sns\n",
    "import numpy as np\n",
    "import scipy.stats as st\n",
    "import statsmodels.stats.weightstats\n",
    "df = pd.read_csv('data/human_body_temperature.csv')"
   ]
  },
  {
   "cell_type": "code",
   "execution_count": 2,
   "metadata": {},
   "outputs": [
    {
     "name": "stdout",
     "output_type": "stream",
     "text": [
      "(130, 3)\n",
      "       temperature  heart_rate\n",
      "count   130.000000  130.000000\n",
      "mean     98.249231   73.761538\n",
      "std       0.733183    7.062077\n",
      "min      96.300000   57.000000\n",
      "25%      97.800000   69.000000\n",
      "50%      98.300000   74.000000\n",
      "75%      98.700000   79.000000\n",
      "max     100.800000   89.000000\n"
     ]
    },
    {
     "data": {
      "text/html": [
       "<div>\n",
       "<style scoped>\n",
       "    .dataframe tbody tr th:only-of-type {\n",
       "        vertical-align: middle;\n",
       "    }\n",
       "\n",
       "    .dataframe tbody tr th {\n",
       "        vertical-align: top;\n",
       "    }\n",
       "\n",
       "    .dataframe thead th {\n",
       "        text-align: right;\n",
       "    }\n",
       "</style>\n",
       "<table border=\"1\" class=\"dataframe\">\n",
       "  <thead>\n",
       "    <tr style=\"text-align: right;\">\n",
       "      <th></th>\n",
       "      <th>temperature</th>\n",
       "      <th>gender</th>\n",
       "      <th>heart_rate</th>\n",
       "    </tr>\n",
       "  </thead>\n",
       "  <tbody>\n",
       "    <tr>\n",
       "      <th>0</th>\n",
       "      <td>99.3</td>\n",
       "      <td>F</td>\n",
       "      <td>68.0</td>\n",
       "    </tr>\n",
       "    <tr>\n",
       "      <th>1</th>\n",
       "      <td>98.4</td>\n",
       "      <td>F</td>\n",
       "      <td>81.0</td>\n",
       "    </tr>\n",
       "    <tr>\n",
       "      <th>2</th>\n",
       "      <td>97.8</td>\n",
       "      <td>M</td>\n",
       "      <td>73.0</td>\n",
       "    </tr>\n",
       "    <tr>\n",
       "      <th>3</th>\n",
       "      <td>99.2</td>\n",
       "      <td>F</td>\n",
       "      <td>66.0</td>\n",
       "    </tr>\n",
       "    <tr>\n",
       "      <th>4</th>\n",
       "      <td>98.0</td>\n",
       "      <td>F</td>\n",
       "      <td>73.0</td>\n",
       "    </tr>\n",
       "  </tbody>\n",
       "</table>\n",
       "</div>"
      ],
      "text/plain": [
       "   temperature gender  heart_rate\n",
       "0         99.3      F        68.0\n",
       "1         98.4      F        81.0\n",
       "2         97.8      M        73.0\n",
       "3         99.2      F        66.0\n",
       "4         98.0      F        73.0"
      ]
     },
     "execution_count": 2,
     "metadata": {},
     "output_type": "execute_result"
    }
   ],
   "source": [
    "print(df.shape)\n",
    "print(df.describe())\n",
    "df.head()"
   ]
  },
  {
   "cell_type": "markdown",
   "metadata": {},
   "source": [
    "#### 1. Is the distribution of body temperatures normal?"
   ]
  },
  {
   "cell_type": "code",
   "execution_count": 3,
   "metadata": {},
   "outputs": [
    {
     "name": "stderr",
     "output_type": "stream",
     "text": [
      "/Users/Julia/miniconda3/envs/advanced-pip-example/lib/python3.7/site-packages/scipy/stats/stats.py:1713: FutureWarning: Using a non-tuple sequence for multidimensional indexing is deprecated; use `arr[tuple(seq)]` instead of `arr[seq]`. In the future this will be interpreted as an array index, `arr[np.array(seq)]`, which will result either in an error or a different result.\n",
      "  return np.add.reduce(sorted[indexer] * weights, axis=axis) / sumval\n"
     ]
    },
    {
     "data": {
      "image/png": "[encoded data removed]",
      "text/plain": [
       "<Figure size 432x288 with 1 Axes>"
      ]
     },
     "metadata": {
      "needs_background": "light"
     },
     "output_type": "display_data"
    }
   ],
   "source": [
    "norm = np.random.normal(size=10000, loc=98.249231, scale=0.733183)\n",
    "\n",
    "# would want to do this after means of bootstrapping empirical data. \n",
    "# Don't use random sample for the normal distribution because we're using theoretical distribution. \n",
    "\n",
    "_ = sns.distplot(df.temperature, bins=10, rug=True, color='blue')\n",
    "_ = sns.distplot(norm, hist=False, rug=False, color='red') "
   ]
  },
  {
   "cell_type": "markdown",
   "metadata": {},
   "source": [
    "### Shapiro-Wilk Test \n",
    "* Ho: The distribution of the data is normal. \n",
    "* Ha: The distribution of the data is not normal."
   ]
  },
  {
   "cell_type": "code",
   "execution_count": 4,
   "metadata": {},
   "outputs": [
    {
     "name": "stdout",
     "output_type": "stream",
     "text": [
      "Statistics=0.987, p=0.233\n",
      "Sample looks Gaussian (fail to reject H0)\n"
     ]
    }
   ],
   "source": [
    "# https://machinelearningmastery.com/a-gentle-introduction-to-normality-tests-in-python/\n",
    "\n",
    "# Shapiro-Wilk Test\n",
    "from scipy.stats import shapiro\n",
    "\n",
    "np.random.seed(1)\n",
    "\n",
    "# normality test\n",
    "stat, p = shapiro(df.temperature)\n",
    "print('Statistics=%.3f, p=%.3f' % (stat, p))\n",
    "#? Hunh? pipeline in python for printing??\n",
    "\n",
    "# interpret\n",
    "alpha = 0.05\n",
    "if p > alpha:\n",
    "    print('Sample looks Gaussian (fail to reject H0)')\n",
    "else:\n",
    "    print('Sample does not look Gaussian (reject H0)')"
   ]
  },
  {
   "cell_type": "markdown",
   "metadata": {},
   "source": [
    "#### 2. Is the sample size large? Are the observations independent?"
   ]
  },
  {
   "cell_type": "markdown",
   "metadata": {},
   "source": [
    "*  The sample size is 130 (over 30). \n",
    "*  Observations can be treated as independent because 130 is less than 10% of the world population, if we assume that Wunderlich sampled without replacement. "
   ]
  },
  {
   "cell_type": "markdown",
   "metadata": {},
   "source": [
    "#### 3. Is the true population mean really 98.6 degrees F?\n",
    "No. Bootstrapping and other tests reveal that the true poplation mean is not 98.6 degrees F."
   ]
  },
  {
   "cell_type": "code",
   "execution_count": 28,
   "metadata": {},
   "outputs": [
    {
     "name": "stdout",
     "output_type": "stream",
     "text": [
      "Reject Ho because 0.000, is less than 0.050.\n",
      "Reject Ho because 0.000, is less than 0.050.\n"
     ]
    }
   ],
   "source": [
    "#Bootstrap hypothesis test:\n",
    "# Ho : The true population mean is 98.6 degrees F.\n",
    "# Ha : The true population mean is not 98.6 degrees F.\n",
    "\n",
    "# FUNCTIONS:\n",
    "\n",
    "def bs_rep_1d(data,func):\n",
    "    \"\"\"generate bootstrap replicate of 1D data\"\"\"\n",
    "    bs_sample = np.random.choice(data, len(data))\n",
    "    return func(bs_sample)\n",
    "\n",
    "def draw_bs_reps(data, func, size=1):\n",
    "    \"\"\"Draw bootstrap replicates.\"\"\"\n",
    "\n",
    "    # Initialize array of replicates: bs_replicates\n",
    "    bs_replicates = np.empty(size)\n",
    "\n",
    "    # Generate replicates\n",
    "    for i in range(size):\n",
    "        bs_replicates[i] = bs_rep_1d(data, func)\n",
    "\n",
    "    return bs_replicates\n",
    "\n",
    "# APPLICATION 1, shifting data mean and comparing bootstrap distance with empirical distance\n",
    "\n",
    "alpha = .05\n",
    "temps = df.temperature\n",
    "assumed = 98.6 \n",
    "\n",
    "# Difference between Ho mean and sample mean\n",
    "def diff_from_assumed(data, assumed=98.6):\n",
    "    return np.mean(data) - assumed\n",
    "diff_obs = diff_from_assumed(temps)\n",
    "\n",
    "# Shift data set:\n",
    "temps_shift = temps - np.mean(temps) + assumed\n",
    "\n",
    "# 10,000 sets of bootstrap data\n",
    "bs_reps = draw_bs_reps(temps_shift, diff_from_assumed, 10000)\n",
    "\n",
    "# percentage of bootstrap data with difference less that observed difference between sample mean and assumed mean\n",
    "p_value = np.sum(bs_reps <= diff_obs) / len(bs_reps)\n",
    "\n",
    "print(\"Reject Ho because %.3f, is less than %.3f.\" % (p_value, alpha)) if p_value < alpha \\\n",
    "else print(\"Fail to reject Ho because of P value=%.3f is greater than alpha=%.3f.\" % (p_value, alpha))\n",
    "\n",
    "\n",
    "\n",
    "\n",
    "# APPLICATION 2, bootstrapping mean and comparing rounded mean with Ho mean\n",
    "\n",
    "alpha = .05\n",
    "temps = df.temperature\n",
    "assumed = 98.6 \n",
    "\n",
    "# Difference between Ho mean and sample mean\n",
    "\n",
    "# 10,000 sets of bootstrap data\n",
    "bs_reps = draw_bs_reps(temps, np.mean, 10000)\n",
    "bs_repsr = [round(i,1) for i in bs_reps] \n",
    "\n",
    "# percentage of bootstrap data with difference less that observed difference between sample mean and assumed mean\n",
    "p_value = np.sum((bs_repsr) != assumed) / len(bs_reps)\n",
    "\n",
    "print(\"Reject Ho because %.3f, is less than %.3f.\" % (p_value, alpha)) if p_value < alpha \\\n",
    "else print(\"Fail to reject Ho because of P value=%.3f is greater than alpha=%.3f.\" % (p_value, alpha))"
   ]
  },
  {
   "cell_type": "markdown",
   "metadata": {},
   "source": [
    "One-sample or two-sample test? Why?\n",
    "*  We use a one-sample test because we are comparing one set of data (Wunderlich's) to another statistic (mean=98.6).\n",
    "*  We would use a two-sample test if we used two data sets. "
   ]
  },
  {
   "cell_type": "markdown",
   "metadata": {},
   "source": [
    "Should we use t or z statistic? Why? \n",
    "*  The population variance is unknown, but the sample size above 30 and the data is normally is distributed. A T distribution may be slightly better than a Z distribution. \n",
    "*  Z distributions can be used when the population variance isn't known by estimating with the sample variance. The sample size must be over 30, and the data must be normally distributed.\n",
    "    \n",
    "Use the other test. How are the result different and why? \n",
    "*  The results are different because the curve for a t distribution changes depending on the sample size, as reflected in the degrees of freedom used in the calculation. This accounts for the unknown population variance. "
   ]
  },
  {
   "cell_type": "code",
   "execution_count": 6,
   "metadata": {},
   "outputs": [
    {
     "name": "stdout",
     "output_type": "stream",
     "text": [
      "T Statistic: 0.0000002411 is less than 0.050000, so we reject Ho.\n",
      "T Statistic: 0.0000002189 is less than 0.050000, so we reject Ho.\n",
      "Z Statistic: 0.0000000490 is less than 0.050000, so we reject Ho.\n",
      "Z Statistic: 0.0000000435 is less than 0.050000, so we reject Ho.\n"
     ]
    }
   ],
   "source": [
    "smean = np.mean(temps)\n",
    "pmean = 98.6\n",
    "sstd = np.std(temps)\n",
    "ssize = len(temps)\n",
    "degf = ssize - 1\n",
    "\n",
    "# t statistic: \n",
    "results = st.ttest_1samp(temps, 98.6)\n",
    "alpha = 0.05\n",
    "\n",
    "print(\"T Statistic: %.10f is less than %f, so we reject Ho.\" % (results[1], alpha)) if results[1] < alpha \\\n",
    "else print(\"T Statistic: %.10f is more than %f, so we fail to reject Ho.\" % (results[1], alpha))\n",
    "\n",
    "# t statistic another way: (sample mean - population mean)/(standard deviation of SAMPLE / square root of sample size)\n",
    "SE = (np.std(temps)/np.sqrt(ssize))\n",
    "t = (smean - 98.6) / SE\n",
    "pval = st.t.sf(np.abs(t), degf)*2\n",
    "\n",
    "print(\"T Statistic: %.10f is less than %f, so we reject Ho.\" % (pval, alpha)) if results[1] < alpha \\\n",
    "else print(\"T Statistic: %.10f is more than %f, so we fail to reject Ho.\" % (pval, alpha))\n",
    "\n",
    "# z statistic: \n",
    "results = statsmodels.stats.weightstats.ztest(x1=temps, value=98.6)\n",
    "alpha = 0.05\n",
    "\n",
    "print(\"Z Statistic: %.10f is less than %f, so we reject Ho.\" % (results[1], alpha)) if results[1] < alpha \\\n",
    "else print(\"Z Statistic: %.10f is more than %f, so we fail to reject Ho.\" % (results[1], alpha))\n",
    "\n",
    "# z statistic another way: use sample standard deviation to estimate population standard deviation.\n",
    "# This brings us to the same formula for T statistic, but without using DF in finding P from Z distribution.\n",
    "# (sample mean - population mean)/(standard deviation of POPULATION / square root of sample size)\n",
    "SE = (np.std(temps)/np.sqrt(ssize))\n",
    "z = (smean - 98.6) / SE\n",
    "pval = st.norm.sf(abs(z))*2 \n",
    "\n",
    "print(\"Z Statistic: %.10f is less than %f, so we reject Ho.\" % (pval, alpha)) if results[1] < alpha \\\n",
    "else print(\"Z Statistic: %.10f is more than %f, so we fail to reject Ho.\" % (pval, alpha))"
   ]
  },
  {
   "cell_type": "markdown",
   "metadata": {},
   "source": [
    "##### 4. Draw a small sample of size 10 from the data and repeat both frequentist tests.\n",
    "* Which one is the correct one to use?\n",
    "  *  We use the t test because the population variance is unknown and the sample is under 30.\n",
    "* What do you notice? What does this tell you about the difference in application of the  𝑡  and  𝑧  statistic?\n",
    "  * The larger the sample size, the less it matters whether or not we use a t or z statistic because the standard deviation will approach the same value."
   ]
  },
  {
   "cell_type": "code",
   "execution_count": 7,
   "metadata": {},
   "outputs": [
    {
     "name": "stdout",
     "output_type": "stream",
     "text": [
      "T Statistic: 0.0248671107 is less than 0.050000, so we reject Ho.\n",
      "Z Statistic: 0.0071824488 is less than 0.050000, so we reject Ho.\n"
     ]
    }
   ],
   "source": [
    "np.random.seed(15)\n",
    "tsmall = np.random.choice(temps, 10)\n",
    "\n",
    "# t statistic:\n",
    "results = st.ttest_1samp(tsmall, 98.6)\n",
    "alpha = 0.05\n",
    "\n",
    "print(\"T Statistic: %.10f is less than %f, so we reject Ho.\" % (results[1], alpha)) if results[1] < alpha \\\n",
    "else print(\"T Statistic: %.10f is more than %f, so we fail to reject Ho.\" % (results[1], alpha))\n",
    "\n",
    "# z statistic: \n",
    "results = statsmodels.stats.weightstats.ztest(x1=tsmall, value=98.6)\n",
    "alpha = 0.05\n",
    "\n",
    "print(\"Z Statistic: %.10f is less than %f, so we reject Ho.\" % (results[1], alpha)) if results[1] < alpha \\\n",
    "else print(\"Z Statistic: %.10f is more than %f, so we fail to reject Ho.\" % (results[1], alpha))"
   ]
  },
  {
   "cell_type": "markdown",
   "metadata": {},
   "source": [
    "#### 5. At what temperature should we consider someone's temperature to be \"abnormal\"?\n",
    "* As in the previous example, try calculating everything using the boostrap approach, as well as the frequentist approach.\n",
    "* Start by computing the margin of error and confidence interval. When calculating the confidence interval, keep in mind that you should use the appropriate formula for one draw, and not N draws."
   ]
  },
  {
   "cell_type": "code",
   "execution_count": 8,
   "metadata": {},
   "outputs": [
    {
     "name": "stdout",
     "output_type": "stream",
     "text": [
      "With 95% confidence, a normal temperature is between 98.122 and 98.373 degrees Farenheit.\n"
     ]
    }
   ],
   "source": [
    "def bootstrap_replicate_1d(data,func):\n",
    "    \"\"\"generate bootstrap replicate of 1D data\"\"\"\n",
    "    bs_sample = np.random.choice(data, len(data))\n",
    "    return func(bs_sample)\n",
    "\n",
    "bs_replicates = np.empty(10000)\n",
    "for i in range(10000):\n",
    "    bs_replicates[i] = bootstrap_replicate_1d(temps, np.mean)\n",
    "\n",
    "# use bs_replicates to calculate confidence interval of 95%\n",
    "conf_int = np.percentile(bs_replicates, [2.5, 97.5])\n",
    "\n",
    "print(\"With 95%% confidence, a normal temperature is between %.3f and %.3f degrees Farenheit.\" \\\n",
    "      % (conf_int[0], conf_int[1]))\n",
    "\n",
    "#apply function of bottom 2.5 and top 97.5 separately instead of doing the mean\n",
    "#then apply confidence interval to both the bottom 2.5 and top 97.5"
   ]
  },
  {
   "cell_type": "code",
   "execution_count": 9,
   "metadata": {},
   "outputs": [
    {
     "name": "stdout",
     "output_type": "stream",
     "text": [
      "With 95% confidence, a normal temperature is between 98.375 and 98.124 degrees Farenheit.\n"
     ]
    }
   ],
   "source": [
    "low, high = (np.mean(temps) + 1.96 * np.std(temps) / np.sqrt(len(temps))), \\\n",
    "    (np.mean(temps) - 1.96 * np.std(temps) / np.sqrt(len(temps)))\n",
    "print(\"With 95%% confidence, a normal temperature is between %.3f and %.3f degrees Farenheit.\" % (low,high))                                             "
   ]
  },
  {
   "cell_type": "markdown",
   "metadata": {},
   "source": [
    "#### 6. Is there a significant difference between males and females in normal temperature?\n",
    "YES.\n",
    "* What testing approach did you use and why?\n",
    "    * two sample bootstrap hypothesis test for difference of means\n",
    "    * two sample t test for difference of means\n",
    "    * two sample z test for difference of means\n",
    "  * All methods can work for this scenario; I wanted to practice using different techniques.\n",
    "* Write a story with your conclusion in the context of the original problem. <br>\n",
    "Scientists want to test the effect of a drug on body temperature. They are unsure whether to test males and female separately because the do not know if there are any significant differences in body temperature between males and females. They run a hypothesis test to see whether body temperatures are the same for males and females, and evidence suggests that there is a difference in body temperature for males and females. "
   ]
  },
  {
   "cell_type": "code",
   "execution_count": 16,
   "metadata": {},
   "outputs": [
    {
     "name": "stdout",
     "output_type": "stream",
     "text": [
      "P value=0.012 is less than 0.050, so we reject Ho. \n",
      " Evidence supports that there is a difference in temperature between genders.\n"
     ]
    }
   ],
   "source": [
    "# TWO SAMPLE BOOTSTRAP HYPOTHESIS TEST FOR DIFFERENCE OF MEANS\n",
    "# USE TWO FULL DATASETS\n",
    "\n",
    "# Ho: Males and females have the same normal temperature.\n",
    "# Ha: There is a significant difference between male and female normal temperatures.\n",
    "\n",
    "alpha = 0.05\n",
    "\n",
    "# Gender sets:\n",
    "temps_f = df[df['gender']=='F']['temperature']\n",
    "temps_m = df[df['gender']=='M']['temperature']\n",
    "\n",
    "# Compute mean of combined:\n",
    "mean_tot = np.mean(temps)\n",
    "             \n",
    "# Compute differences of means:\n",
    "emp_mean_diff = np.mean(temps_f) - np.mean(temps_m)\n",
    "\n",
    "# Generate shifted arrays so both have the mean of concatenated data\n",
    "f_shifted = temps_f - np.mean(temps_f) + mean_tot\n",
    "m_shifted = temps_m - np.mean(temps_m) + mean_tot\n",
    "\n",
    "# Compute 10,000 bootstrap replicates from shifted arrays\n",
    "bs_replicates_f = draw_bs_reps(f_shifted, np.mean, size=10000)\n",
    "bs_replicates_m = draw_bs_reps(m_shifted, np.mean, size=10000)\n",
    "\n",
    "# Get replicates of difference of means: bs_replicates\n",
    "bs_replicates = bs_replicates_f - bs_replicates_m\n",
    "\n",
    "# Compute and print p-value: p\n",
    "p = np.sum(bs_replicates >= emp_mean_diff) / len(bs_replicates)\n",
    "\n",
    "print(\"P value=%.3f is less than %.3f, so we reject Ho. \\n Evidence supports that there is a difference in temperature between genders.\" % (p, alpha)) if p < alpha \\\n",
    "else print(\"P value=%.3f is more than %.3f, so we fail to reject Ho. \" % (p, alpha))"
   ]
  },
  {
   "cell_type": "code",
   "execution_count": 11,
   "metadata": {},
   "outputs": [
    {
     "name": "stdout",
     "output_type": "stream",
     "text": [
      "P value=0.024 is less than 0.050, so we reject Ho.\n",
      "Z statistic=2.303 is more extreme than 1.960, so we reject Ho.\n"
     ]
    }
   ],
   "source": [
    "# two sample tests for difference in means\n",
    "\n",
    "# t test:\n",
    "tval, pval = st.ttest_ind(temps_f, temps_m, axis=0, equal_var=False)\n",
    "print(\"P value=%.3f is less than %.3f, so we reject Ho.\" % (pval, alpha)) if p < alpha \\\n",
    "else print(\"P value=%.3f is more than %.3f, so we fail to reject Ho. \" % (pval, alpha))\n",
    "\n",
    "# z test:\n",
    "crit_val = 1.96\n",
    "se_mean = (np.sqrt(np.var(temps_f)/len(temps_f) + np.var(temps_m)/len(temps_m))) \n",
    "z = (np.mean(temps_f) - np.mean(temps_m) - 0) / se_mean\n",
    "\n",
    "print(\"Z statistic=%.3f is more extreme than %.3f, so we reject Ho.\" % (z, crit_val)) if np.abs(z) > crit_val \\\n",
    "else print(\"Z statistic=%.3f is less extreme than %.3f, so we fail to reject Ho. \" % (pval, alpha))"
   ]
  },
  {
   "cell_type": "code",
   "execution_count": null,
   "metadata": {},
   "outputs": [],
   "source": []
  }
 ],
 "metadata": {
  "kernelspec": {
   "display_name": "Python 3",
   "language": "python",
   "name": "python3"
  },
  "language_info": {
   "codemirror_mode": {
    "name": "ipython",
    "version": 3
   },
   "file_extension": ".py",
   "mimetype": "text/x-python",
   "name": "python",
   "nbconvert_exporter": "python",
   "pygments_lexer": "ipython3",
   "version": "3.7.1"
  }
 },
 "nbformat": 4,
 "nbformat_minor": 1
}
